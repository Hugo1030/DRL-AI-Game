{
 "cells": [
  {
   "cell_type": "code",
   "execution_count": 2,
   "metadata": {
    "collapsed": true
   },
   "outputs": [],
   "source": [
    "import pygame\n",
    "from pygame.locals import *\n",
    "import sys"
   ]
  },
  {
   "cell_type": "code",
   "execution_count": 3,
   "metadata": {
    "collapsed": true
   },
   "outputs": [],
   "source": [
    "BLACK = (0, 0, 0)\n",
    "WHILE = (255, 255, 255)"
   ]
  },
  {
   "cell_type": "code",
   "execution_count": 4,
   "metadata": {
    "collapsed": true
   },
   "outputs": [],
   "source": [
    "SCREEN_SIZE = [320, 400]\n",
    "BAR_SIZE = [30, 5]\n",
    "BALL_SIZE = [15, 15]"
   ]
  },
  {
   "cell_type": "code",
   "execution_count": 4,
   "metadata": {},
   "outputs": [
    {
     "data": {
      "text/plain": [
       "(6, 0)"
      ]
     },
     "execution_count": 4,
     "metadata": {},
     "output_type": "execute_result"
    }
   ],
   "source": [
    "pygame.init()"
   ]
  },
  {
   "cell_type": "code",
   "execution_count": 5,
   "metadata": {
    "collapsed": true
   },
   "outputs": [],
   "source": [
    "clock = pygame.time.Clock()"
   ]
  },
  {
   "cell_type": "code",
   "execution_count": 6,
   "metadata": {},
   "outputs": [],
   "source": [
    "screen = pygame.display.set_mode(SCREEN_SIZE)"
   ]
  },
  {
   "cell_type": "code",
   "execution_count": 7,
   "metadata": {
    "collapsed": true
   },
   "outputs": [],
   "source": [
    "('Simple Game')"
   ]
  },
  {
   "cell_type": "code",
   "execution_count": 8,
   "metadata": {
    "collapsed": true
   },
   "outputs": [],
   "source": [
    "ball_pos_x = SCREEN_SIZE[0]//2 - BALL_SIZE[0]/2"
   ]
  },
  {
   "cell_type": "code",
   "execution_count": 9,
   "metadata": {
    "collapsed": true
   },
   "outputs": [],
   "source": [
    "ball_pos_y = SCREEN_SIZE[1]//2 - BALL_SIZE[1]/2"
   ]
  },
  {
   "cell_type": "code",
   "execution_count": 10,
   "metadata": {
    "collapsed": true
   },
   "outputs": [],
   "source": [
    "ball_dir_x = -1\n",
    "ball_dir_y = -1"
   ]
  },
  {
   "cell_type": "code",
   "execution_count": 12,
   "metadata": {},
   "outputs": [
    {
     "ename": "SystemExit",
     "evalue": "",
     "output_type": "error",
     "traceback": [
      "An exception has occurred, use %tb to see the full traceback.\n",
      "\u001b[0;31mSystemExit\u001b[0m\n"
     ]
    },
    {
     "name": "stderr",
     "output_type": "stream",
     "text": [
      "/Library/Frameworks/Python.framework/Versions/3.6/lib/python3.6/site-packages/IPython/core/interactiveshell.py:2870: UserWarning: To exit: use 'exit', 'quit', or Ctrl-D.\n",
      "  warn(\"To exit: use 'exit', 'quit', or Ctrl-D.\", stacklevel=1)\n"
     ]
    }
   ],
   "source": [
    "background_image_filename = 'sushiplate.jpg'\n",
    "mouse_image_filename = 'fugu.png'\n",
    "#指定图像文件名称\n",
    " \n",
    "import pygame\n",
    "#导入pygame库\n",
    "from pygame.locals import *\n",
    "#导入一些常用的函数和常量\n",
    "from sys import exit\n",
    "#向sys模块借一个exit函数用来退出程序\n",
    " \n",
    "pygame.init()\n",
    "#初始化pygame,为使用硬件做准备\n",
    " \n",
    "screen = pygame.display.set_mode((640, 480), 0, 32)\n",
    "#创建了一个窗口\n",
    "pygame.display.set_caption(\"Hello, World!\")\n",
    "#设置窗口标题\n",
    " \n",
    "background = pygame.image.load(background_image_filename).convert()\n",
    "mouse_cursor = pygame.image.load(mouse_image_filename).convert_alpha()\n",
    "#加载并转换图像\n",
    " \n",
    "while True:\n",
    "#游戏主循环\n",
    " \n",
    "    for event in pygame.event.get():\n",
    "        if event.type == QUIT:\n",
    "            #接收到退出事件后退出程序\n",
    "            exit()\n",
    " \n",
    "    screen.blit(background, (0,0))\n",
    "    #将背景图画上去\n",
    " \n",
    "    x, y = pygame.mouse.get_pos()\n",
    "    #获得鼠标位置\n",
    "    x-= mouse_cursor.get_width() / 2\n",
    "    y-= mouse_cursor.get_height() / 2\n",
    "    #计算光标的左上角位置\n",
    "    screen.blit(mouse_cursor, (x, y))\n",
    "    #把光标画上去\n",
    " \n",
    "    pygame.display.update()\n",
    "    #刷新一下画面"
   ]
  },
  {
   "cell_type": "code",
   "execution_count": null,
   "metadata": {
    "collapsed": true
   },
   "outputs": [],
   "source": []
  },
  {
   "cell_type": "code",
   "execution_count": null,
   "metadata": {
    "collapsed": true
   },
   "outputs": [],
   "source": []
  }
 ],
 "metadata": {
  "kernelspec": {
   "display_name": "Python 3",
   "language": "python",
   "name": "python3"
  },
  "language_info": {
   "codemirror_mode": {
    "name": "ipython",
    "version": 3
   },
   "file_extension": ".py",
   "mimetype": "text/x-python",
   "name": "python",
   "nbconvert_exporter": "python",
   "pygments_lexer": "ipython3",
   "version": "3.6.2"
  },
  "toc": {
   "nav_menu": {},
   "number_sections": true,
   "sideBar": true,
   "skip_h1_title": false,
   "toc_cell": false,
   "toc_position": {},
   "toc_section_display": "block",
   "toc_window_display": false
  }
 },
 "nbformat": 4,
 "nbformat_minor": 2
}
